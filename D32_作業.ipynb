{
 "cells": [
  {
   "cell_type": "markdown",
   "metadata": {},
   "source": [
    "## 作業:\n",
    "今天學到 AB test中假設檢定的基本概念，最重要的就是如何將抽象情況數值化，\n",
    "並建立自已的 $H_0$ 與 $H_1$。\n",
    "透過作業來好好練習，概念懂了，後面幾堂課再帶大家運用 python 進行運算。\n"
   ]
  },
  {
   "cell_type": "markdown",
   "metadata": {},
   "source": [
    "### Q1: 吃減肥藥能在一個月內瘦超過十公斤，研究人員想推翻第四台廣告業者的說法，請試著寫出 $H_0$ 與 $H_1$ 。\n"
   ]
  },
  {
   "cell_type": "code",
   "execution_count": 2,
   "metadata": {},
   "outputs": [
    {
     "data": {
      "text/plain": [
       "'\\n研究人員想推翻第四台廣告業者的說法，所以\\nH1: 吃減肥藥能在一個月內瘦\"不能\"超過十公斤(X<10)\\nH0: 吃減肥藥能在一個月內瘦\"能\"超過十公斤(X>=10)\\n'"
      ]
     },
     "execution_count": 2,
     "metadata": {},
     "output_type": "execute_result"
    }
   ],
   "source": [
    "#Q1: 吃減肥藥能在一個月內瘦超過十公斤，研究人員想推翻第四台廣告業者的說法，請試著寫出 $H_0$ 與 $H_1$\n",
    "'''\n",
    "你的答案\n",
    "'''\n",
    "H0:減肥藥的效果沒有超過十公斤，沒有顯著差異\n",
    "H1:減肥藥的效果超過十公斤，有顯著差異"
   ]
  },
  {
   "cell_type": "markdown",
   "metadata": {},
   "source": [
    "### Q2: 一位速食店店長認為其品牌在市場之佔有率至多為12%，於是該店長進行一個市場調查，一共訪問了3000為消費者，其中有311位表示喜歡該品牌，請試著寫出 $H_0$ 與 $H_1$ 。\n"
   ]
  },
  {
   "cell_type": "code",
   "execution_count": 2,
   "metadata": {},
   "outputs": [
    {
     "ename": "SyntaxError",
     "evalue": "invalid syntax (<ipython-input-2-79ad64ed66f3>, line 5)",
     "output_type": "error",
     "traceback": [
      "\u001b[0;36m  File \u001b[0;32m\"<ipython-input-2-79ad64ed66f3>\"\u001b[0;36m, line \u001b[0;32m5\u001b[0m\n\u001b[0;31m    H0:3000名的消費者沒有達到12%的佔有率，沒有顯著差異\u001b[0m\n\u001b[0m           ^\u001b[0m\n\u001b[0;31mSyntaxError\u001b[0m\u001b[0;31m:\u001b[0m invalid syntax\n"
     ]
    }
   ],
   "source": [
    "#Q2: 一位速食店店長認為其品牌在市場之佔有率至多為12%，於是該店長進行一個市場調查，一共訪問了3000為消費者，其中有311位表示喜歡該品牌，請試著寫出 $H_0$ 與 $H_1$ 。\n",
    "'''\n",
    "你的答案\n",
    "'''\n",
    "H0:3000名的消費者沒有達到12%的佔有率，沒有顯著差異\n",
    "H1:3000名的消費者有達到12%的佔有率，有顯著差異\n",
    "    "
   ]
  },
  {
   "cell_type": "code",
   "execution_count": null,
   "metadata": {},
   "outputs": [],
   "source": []
  }
 ],
 "metadata": {
  "colab": {
   "name": "Day33.YOLO 細節理解 - 網路輸出的後處理_HW.ipynb",
   "provenance": []
  },
  "kernelspec": {
   "display_name": "Python 3",
   "language": "python",
   "name": "python3"
  },
  "language_info": {
   "codemirror_mode": {
    "name": "ipython",
    "version": 3
   },
   "file_extension": ".py",
   "mimetype": "text/x-python",
   "name": "python",
   "nbconvert_exporter": "python",
   "pygments_lexer": "ipython3",
   "version": "3.8.8"
  }
 },
 "nbformat": 4,
 "nbformat_minor": 1
}
