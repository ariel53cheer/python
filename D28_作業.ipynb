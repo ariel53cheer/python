{
 "cells": [
  {
   "cell_type": "markdown",
   "metadata": {},
   "source": [
    "## 作業:\n",
    "今天學到2種分配，包含，   \n",
    "離散均勻分配( Discrete Uniform Distribution )   \n",
    "伯努利分配( Bernoulli Distribution )   \n",
    "\n",
    "今天我們透過作業中的問題，回想今天的內容吧!  "
   ]
  },
  {
   "cell_type": "markdown",
   "metadata": {},
   "source": [
    "### 丟一個銅板，丟了100次，出現正面 50 次的機率有多大。\n",
    "(提示: 先想是哪一種分配，然後透過 python 語法進行計算)\n"
   ]
  },
  {
   "cell_type": "code",
   "execution_count": 1,
   "metadata": {},
   "outputs": [],
   "source": [
    "# library\n",
    "import matplotlib.pyplot as plt\n",
    "import numpy as np\n",
    "import pandas as pd\n",
    "from scipy import stats\n",
    "import math\n",
    "import statistics"
   ]
  },
  {
   "cell_type": "code",
   "execution_count": 8,
   "metadata": {},
   "outputs": [
    {
     "name": "stdout",
     "output_type": "stream",
     "text": [
      "probs= 0.07958923738717888\n"
     ]
    }
   ],
   "source": [
    "'''\n",
    "# 二項分佈 (binomial distribution)\n",
    "# 前提：獨立重複試驗、有放回、只有兩個結果\n",
    "# 二項分佈指出，隨機一次試驗出現事件A的機率如果為p，那麼在重複 n 次試驗中出現 x 次事件A的機率為：\n",
    "# f(n,x,p) = choose(n, x) * p**x * (1-p)**(n-x)\n",
    "'''\n",
    "# 1.定義二項分佈的基本資訊\n",
    "p = 0.5 \n",
    "n = 100  # 重複實驗10次,\n",
    "r = 50\n",
    "#print(type(k))\n",
    "\n",
    "# 2.計算二項分佈的概率質量分佈 (probability mass function)\n",
    "# 之所以稱為質量，是因為離散的點\n",
    "# P(X=x) --> 是機率\n",
    "probs = stats.binom.pmf(r, n, p)\n",
    "print(\"probs=\",probs)"
   ]
  },
  {
   "cell_type": "code",
   "execution_count": 6,
   "metadata": {},
   "outputs": [
    {
     "name": "stdout",
     "output_type": "stream",
     "text": [
      "r= [0 1]\n",
      "probs= [0.5 0.5]\n"
     ]
    },
    {
     "data": {
      "image/png": "[encoded data removed]",
      "text/plain": [
       "<Figure size 432x288 with 1 Axes>"
      ]
     },
     "metadata": {
      "needs_background": "light"
     },
     "output_type": "display_data"
    }
   ],
   "source": [
    "# 1.定義離散均勻分配的基本資訊\n",
    "\n",
    "#head=0\n",
    "#number=2\n",
    "#r = np.arange(head,number)\n",
    "#print(\"r=\",r)\n",
    "\n",
    "\n",
    "# 2.計算離散均勻分配的概率質量分佈 (probability mass function)\n",
    "# 之所以稱為質量，是因為離散的點\n",
    "# 產生 x 軸的點\n",
    "#r = np.arange(stats.randint.ppf(0.01, low, high),\n",
    "#              stats.randint.ppf(0.99, low, high),1)\n",
    "# P(X=x) --> 是機率\n",
    "\n",
    "#probs = stats.randint.pmf(r,head,number)  # uniform\n",
    "print(\"probs=\",probs) \n",
    "#plt.bar(r, probs)\n",
    "#plt.ylabel('P(X=x)')\n",
    "#plt.xlabel('x')\n",
    "#plt.title('pmf of DU(0,1)')\n",
    "#plt.show()"
   ]
  },
  {
   "cell_type": "code",
   "execution_count": 7,
   "metadata": {},
   "outputs": [
    {
     "name": "stdout",
     "output_type": "stream",
     "text": [
      "[1 0 0 1 0 1 1 0 0 0 1 1 0 1 0 0 0 1 1 0 0 0 0 0 1 0 1 0 1 0 1 0 0 0 1 0 0\n",
      " 1 0 1 0 0 0 1 1 0 0 1 1 0 1 1 1 0 1 1 1 0 1 0 1 1 0 0 0 1 0 1 0 1 0 1 1 1\n",
      " 0 0 0 1 1 0 0 0 0 1 1 1 0 1 1 1 0 0 0 0 1 1 0 1 0 1]\n"
     ]
    },
    {
     "data": {
      "image/png": "[encoded data removed]",
      "text/plain": [
       "<Figure size 432x288 with 1 Axes>"
      ]
     },
     "metadata": {
      "needs_background": "light"
     },
     "output_type": "display_data"
    }
   ],
   "source": [
    "# 5.產生符合隨機樣本點 (random sample)\n",
    "#X = stats.randint.rvs(head,number,size=100)\n",
    "#print(X)\n",
    "#plt.hist(X,bins=13)\n",
    "#plt.show()\n"
   ]
  },
  {
   "cell_type": "code",
   "execution_count": null,
   "metadata": {},
   "outputs": [],
   "source": []
  }
 ],
 "metadata": {
  "colab": {
   "name": "Day33.YOLO 細節理解 - 網路輸出的後處理_HW.ipynb",
   "provenance": []
  },
  "kernelspec": {
   "display_name": "Python 3",
   "language": "python",
   "name": "python3"
  },
  "language_info": {
   "codemirror_mode": {
    "name": "ipython",
    "version": 3
   },
   "file_extension": ".py",
   "mimetype": "text/x-python",
   "name": "python",
   "nbconvert_exporter": "python",
   "pygments_lexer": "ipython3",
   "version": "3.8.5"
  }
 },
 "nbformat": 4,
 "nbformat_minor": 1
}
